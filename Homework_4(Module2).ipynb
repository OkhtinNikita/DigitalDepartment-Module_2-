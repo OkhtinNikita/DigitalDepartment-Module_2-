{
 "cells": [
  {
   "cell_type": "code",
   "execution_count": 1,
   "metadata": {},
   "outputs": [],
   "source": [
    "import numpy as np\n",
    "import pandas as pd"
   ]
  },
  {
   "cell_type": "code",
   "execution_count": 2,
   "metadata": {},
   "outputs": [
    {
     "name": "stdout",
     "output_type": "stream",
     "text": [
      "(city1, 2010)    101\n",
      "(city1, 2020)    201\n",
      "(city2, 2010)    102\n",
      "(city2, 2020)    202\n",
      "(city3, 2010)    103\n",
      "(city3, 2020)    203\n",
      "dtype: int64\n"
     ]
    }
   ],
   "source": [
    "# Если размерность данных > 2, то используют иерархическую  индексацию (мультииндекс). В один индекс включается несколько уровней\n",
    "index = [\n",
    "    (\"city1\", 2010),\n",
    "    (\"city1\", 2020),\n",
    "    (\"city2\", 2010),\n",
    "    (\"city2\", 2020),\n",
    "    (\"city3\", 2010),\n",
    "    (\"city3\", 2020),\n",
    "]\n",
    "population=[101,201,102,202,103,203]\n",
    "\n",
    "pop = pd.Series(population, index=index)\n",
    "print(pop)"
   ]
  },
  {
   "cell_type": "code",
   "execution_count": 3,
   "metadata": {},
   "outputs": [
    {
     "name": "stdout",
     "output_type": "stream",
     "text": [
      "(city1, 2020)    201\n",
      "(city2, 2020)    202\n",
      "(city3, 2020)    203\n",
      "dtype: int64\n"
     ]
    }
   ],
   "source": [
    "print(pop[[i for i in pop.index if i[1] == 2020]])"
   ]
  },
  {
   "cell_type": "code",
   "execution_count": 4,
   "metadata": {},
   "outputs": [
    {
     "name": "stdout",
     "output_type": "stream",
     "text": [
      "city1  2010    101\n",
      "       2020    201\n",
      "city2  2010    102\n",
      "       2020    202\n",
      "city3  2010    103\n",
      "       2020    203\n",
      "dtype: int64\n"
     ]
    }
   ],
   "source": [
    "# MultiIndex\n",
    "index = pd.MultiIndex.from_tuples(index)\n",
    "pop = pop.reindex(index)\n",
    "print(pop)"
   ]
  },
  {
   "cell_type": "code",
   "execution_count": 5,
   "metadata": {},
   "outputs": [
    {
     "name": "stdout",
     "output_type": "stream",
     "text": [
      "city1    201\n",
      "city2    202\n",
      "city3    203\n",
      "dtype: int64\n"
     ]
    }
   ],
   "source": [
    "print(pop[:, 2020])"
   ]
  },
  {
   "cell_type": "code",
   "execution_count": 6,
   "metadata": {},
   "outputs": [
    {
     "name": "stdout",
     "output_type": "stream",
     "text": [
      "       2010  2020\n",
      "city1   101   201\n",
      "city2   102   202\n",
      "city3   103   203\n"
     ]
    }
   ],
   "source": [
    "# В виде DataFrame\n",
    "pop_df = pop.unstack()\n",
    "print(pop_df)"
   ]
  },
  {
   "cell_type": "code",
   "execution_count": 7,
   "metadata": {},
   "outputs": [
    {
     "name": "stdout",
     "output_type": "stream",
     "text": [
      "city1  2010    101\n",
      "       2020    201\n",
      "city2  2010    102\n",
      "       2020    202\n",
      "city3  2010    103\n",
      "       2020    203\n",
      "dtype: int64\n"
     ]
    }
   ],
   "source": [
    "# Обратно из DataFrame\n",
    "print(pop_df.stack())"
   ]
  },
  {
   "cell_type": "code",
   "execution_count": 8,
   "metadata": {},
   "outputs": [
    {
     "name": "stdout",
     "output_type": "stream",
     "text": [
      "(city1, 2010, 1)     101\n",
      "(city1, 2010, 2)    1010\n",
      "(city1, 2020, 1)     201\n",
      "(city1, 2020, 2)    2010\n",
      "(city2, 2010, 1)     102\n",
      "(city2, 2010, 2)    1020\n",
      "(city2, 2020, 1)     202\n",
      "(city2, 2020, 2)    2020\n",
      "(city3, 2010, 1)     103\n",
      "(city3, 2010, 2)    1030\n",
      "(city3, 2020, 1)     203\n",
      "(city3, 2020, 2)    2030\n",
      "dtype: int64\n"
     ]
    }
   ],
   "source": [
    "index = [\n",
    "    (\"city1\", 2010, 1),\n",
    "    (\"city1\", 2010, 2),\n",
    "    (\"city1\", 2020, 1),\n",
    "    (\"city1\", 2020, 2),\n",
    "    (\"city2\", 2010, 1),\n",
    "    (\"city2\", 2010, 2),\n",
    "    (\"city2\", 2020, 1),\n",
    "    (\"city2\", 2020, 2),\n",
    "    (\"city3\", 2010, 1),\n",
    "    (\"city3\", 2010, 2),\n",
    "    (\"city3\", 2020, 1),\n",
    "    (\"city3\", 2020, 2),\n",
    "]\n",
    "population = [101, 1010, 201, 2010, 102, 1020, 202, 2020, 103, 1030, 203, 2030]\n",
    "\n",
    "pop = pd.Series(population, index=index)\n",
    "print(pop)"
   ]
  },
  {
   "cell_type": "code",
   "execution_count": 9,
   "metadata": {},
   "outputs": [
    {
     "name": "stdout",
     "output_type": "stream",
     "text": [
      "city1  2010  1     101\n",
      "             2    1010\n",
      "       2020  1     201\n",
      "             2    2010\n",
      "city2  2010  1     102\n",
      "             2    1020\n",
      "       2020  1     202\n",
      "             2    2020\n",
      "city3  2010  1     103\n",
      "             2    1030\n",
      "       2020  1     203\n",
      "             2    2030\n",
      "dtype: int64\n"
     ]
    }
   ],
   "source": [
    "index = pd.MultiIndex.from_tuples(index)\n",
    "pop = pop.reindex(index)\n",
    "print(pop)"
   ]
  },
  {
   "cell_type": "code",
   "execution_count": 10,
   "metadata": {},
   "outputs": [
    {
     "name": "stdout",
     "output_type": "stream",
     "text": [
      "city1  1     101\n",
      "       2    1010\n",
      "city2  1     102\n",
      "       2    1020\n",
      "city3  1     103\n",
      "       2    1030\n",
      "dtype: int64\n",
      "city1  2010    1010\n",
      "       2020    2010\n",
      "city2  2010    1020\n",
      "       2020    2020\n",
      "city3  2010    1030\n",
      "       2020    2030\n",
      "dtype: int64\n"
     ]
    }
   ],
   "source": [
    "print(pop[:, 2010])\n",
    "print(pop[:, :, 2])"
   ]
  },
  {
   "cell_type": "code",
   "execution_count": 11,
   "metadata": {},
   "outputs": [
    {
     "name": "stdout",
     "output_type": "stream",
     "text": [
      "              1     2\n",
      "city1 2010  101  1010\n",
      "      2020  201  2010\n",
      "city2 2010  102  1020\n",
      "      2020  202  2020\n",
      "city3 2010  103  1030\n",
      "      2020  203  2030\n",
      "<bound method DataFrame.stack of               1     2\n",
      "city1 2010  101  1010\n",
      "      2020  201  2010\n",
      "city2 2010  102  1020\n",
      "      2020  202  2020\n",
      "city3 2010  103  1030\n",
      "      2020  203  2030>\n"
     ]
    }
   ],
   "source": [
    "# Преобразование в DataFrame\n",
    "pop_df = pop.unstack()\n",
    "print(pop_df)\n",
    "\n",
    "# Обратное преобразование\n",
    "print(pop_df.stack)"
   ]
  },
  {
   "cell_type": "code",
   "execution_count": 12,
   "metadata": {},
   "outputs": [
    {
     "name": "stdout",
     "output_type": "stream",
     "text": [
      "              total  something\n",
      "city1 2010 1    101        101\n",
      "           2   1010       1010\n",
      "      2020 1    201        201\n",
      "           2   2010       2010\n",
      "city2 2010 1    102        102\n",
      "           2   1020       1020\n",
      "      2020 1    202        202\n",
      "           2   2020       2020\n",
      "city3 2010 1    103        103\n",
      "           2   1030       1030\n",
      "      2020 1    203        203\n",
      "           2   2030       2030\n"
     ]
    }
   ],
   "source": [
    "index = [\n",
    "    (\"city1\", 2010, 1),\n",
    "    (\"city1\", 2010, 2),\n",
    "    (\"city1\", 2020, 1),\n",
    "    (\"city1\", 2020, 2),\n",
    "    (\"city2\", 2010, 1),\n",
    "    (\"city2\", 2010, 2),\n",
    "    (\"city2\", 2020, 1),\n",
    "    (\"city2\", 2020, 2),\n",
    "    (\"city3\", 2010, 1),\n",
    "    (\"city3\", 2010, 2),\n",
    "    (\"city3\", 2020, 1),\n",
    "    (\"city3\", 2020, 2),\n",
    "]\n",
    "population = [101, 1010, 201, 2010, 102, 1020, 202, 2020, 103, 1030, 203, 2030]\n",
    "\n",
    "pop_df = pd.DataFrame(\n",
    "    {\n",
    "        \"total\": pop,\n",
    "        \"something\": [101, 1010, 201, 2010, 102, 1020, 202, 2020, 103, 1030, 203, 2030],\n",
    "    }\n",
    ")\n",
    "print(pop_df)"
   ]
  },
  {
   "cell_type": "code",
   "execution_count": 13,
   "metadata": {},
   "outputs": [
    {
     "name": "stdout",
     "output_type": "stream",
     "text": [
      "city1  2010  1     101\n",
      "             2    1010\n",
      "       2020  1     201\n",
      "             2    2010\n",
      "city2  2010  1     102\n",
      "             2    1020\n",
      "       2020  1     202\n",
      "             2    2020\n",
      "city3  2010  1     103\n",
      "             2    1030\n",
      "       2020  1     203\n",
      "             2    2030\n",
      "Name: something, dtype: int64\n"
     ]
    }
   ],
   "source": [
    "print(pop_df[\"something\"])"
   ]
  },
  {
   "cell_type": "code",
   "execution_count": 14,
   "metadata": {},
   "outputs": [
    {
     "name": "stdout",
     "output_type": "stream",
     "text": [
      "2010  1     101\n",
      "      2    1010\n",
      "2020  1     201\n",
      "      2    2010\n",
      "Name: something, dtype: int64\n",
      "              total  something\n",
      "city1 2010 1    101        101\n",
      "           2   1010       1010\n",
      "      2020 1    201        201\n",
      "           2   2010       2010\n",
      "city3 2010 1    103        103\n",
      "           2   1030       1030\n",
      "      2020 1    203        203\n",
      "           2   2030       2030\n",
      "city1  2010  1     101\n",
      "             2    1010\n",
      "       2020  1     201\n",
      "             2    2010\n",
      "city3  2010  1     103\n",
      "             2    1030\n",
      "       2020  1     203\n",
      "             2    2030\n",
      "Name: something, dtype: int64\n"
     ]
    }
   ],
   "source": [
    "index = [\n",
    "    (\"city1\", 2010),\n",
    "    (\"city1\", 2020),\n",
    "    (\"city2\", 2010),\n",
    "    (\"city2\", 2020),\n",
    "    (\"city3\", 2010),\n",
    "    (\"city3\", 2020),\n",
    "]\n",
    "population = [101, 1010, 201, 2010, 102, 1020]\n",
    "\n",
    "pop_df = pd.DataFrame(\n",
    "    {\n",
    "        \"total\": pop,\n",
    "        \"something\": [101, 1010, 201, 2010, 102, 1020, 202, 2020, 103, 1030, 203, 2030],\n",
    "    }\n",
    ")\n",
    "\n",
    "pop_df_1 = pop_df.loc[\"city1\", \"something\"]\n",
    "pop_df_2 = pop_df.loc[[\"city1\", \"city3\"], [\"total\", \"something\"]]\n",
    "pop_df_3 = pop_df.loc[[\"city1\", \"city3\"], \"something\"]\n",
    "print(pop_df_1)\n",
    "print(pop_df_2)\n",
    "print(pop_df_3)"
   ]
  },
  {
   "cell_type": "code",
   "execution_count": 15,
   "metadata": {},
   "outputs": [
    {
     "name": "stdout",
     "output_type": "stream",
     "text": [
      "2010  1     101\n",
      "      2    1010\n",
      "2020  1     201\n",
      "      2    2010\n",
      "Name: something, dtype: int64\n",
      "              total  something\n",
      "city1 2010 1    101        101\n",
      "           2   1010       1010\n",
      "      2020 1    201        201\n",
      "           2   2010       2010\n",
      "city3 2010 1    103        103\n",
      "           2   1030       1030\n",
      "      2020 1    203        203\n",
      "           2   2030       2030\n",
      "city1  2010  1     101\n",
      "             2    1010\n",
      "       2020  1     201\n",
      "             2    2010\n",
      "city3  2010  1     103\n",
      "             2    1030\n",
      "       2020  1     203\n",
      "             2    2030\n",
      "Name: something, dtype: int64\n"
     ]
    }
   ],
   "source": [
    "# # 1. Разобраться как использовать мультииндексные ключи в данном примере\n",
    "index = [\n",
    "    (\"city1\", 2010),\n",
    "    (\"city1\", 2020),\n",
    "    (\"city2\", 2010),\n",
    "    (\"city2\", 2020),\n",
    "    (\"city3\", 2010),\n",
    "    (\"city3\", 2020),\n",
    "]\n",
    "population = [101, 1010, 201, 2010, 102, 1020]\n",
    "pop_df = pd.DataFrame(\n",
    "    {\n",
    "        \"total\": pop,\n",
    "        \"something\": [101, 1010, 201, 2010, 102, 1020, 202, 2020, 103, 1030, 203, 2030],\n",
    "    }\n",
    ")\n",
    "pop_df_1 = pop_df.loc[\"city1\", \"something\"]\n",
    "pop_df_2 = pop_df.loc[[\"city1\", \"city3\"], [\"total\", \"something\"]]\n",
    "pop_df_3 = pop_df.loc[[\"city1\", \"city3\"], \"something\"]\n",
    "print(pop_df_1)\n",
    "print(pop_df_2)\n",
    "print(pop_df_3)"
   ]
  },
  {
   "cell_type": "code",
   "execution_count": 16,
   "metadata": {},
   "outputs": [
    {
     "name": "stdout",
     "output_type": "stream",
     "text": [
      "MultiIndex([('a', 1),\n",
      "            ('a', 1),\n",
      "            ('b', 2),\n",
      "            ('b', 2)],\n",
      "           )\n",
      "MultiIndex([('a', 'a', 'b', 'b'),\n",
      "            (  1,   1,   2,   2)],\n",
      "           )\n",
      "MultiIndex([('a', 1),\n",
      "            ('a', 2),\n",
      "            ('b', 1),\n",
      "            ('b', 2)],\n",
      "           )\n",
      "MultiIndex([('a', 1),\n",
      "            ('a', 2),\n",
      "            ('b', 1),\n",
      "            ('b', 2)],\n",
      "           )\n"
     ]
    }
   ],
   "source": [
    "# Мультииндексы можно создавать как:\n",
    "# - список массивов, задающих значение индекса на каждом уровне\n",
    "i1 = pd.MultiIndex.from_arrays(\n",
    "    [\n",
    "        [\n",
    "            \"a\",\n",
    "            \"a\",\n",
    "            \"b\",\n",
    "            \"b\",\n",
    "        ],\n",
    "        [1, 1, 2, 2],\n",
    "    ]\n",
    ")\n",
    "print(i1)\n",
    "\n",
    "# - список кортежей, задающих значение индекса в каждой точке\n",
    "\n",
    "i2 = pd.MultiIndex.from_tuples(\n",
    "    [\n",
    "        [\n",
    "            \"a\",\n",
    "            \"a\",\n",
    "            \"b\",\n",
    "            \"b\",\n",
    "        ],\n",
    "        [1, 1, 2, 2],\n",
    "    ]\n",
    ")\n",
    "print(i2)\n",
    "\n",
    "# - декартово произведение обычных индексов\n",
    "\n",
    "i3 = pd.MultiIndex.from_product(\n",
    "    [\n",
    "        [\n",
    "            \"a\",\n",
    "            \"b\",\n",
    "        ],\n",
    "        [1, 2],\n",
    "    ]\n",
    ")\n",
    "print(i3)\n",
    "\n",
    "# - описание внутреннего представления: levels, codes\n",
    "\n",
    "i4 = pd.MultiIndex(\n",
    "    levels=[\n",
    "        [\n",
    "            \"a\",\n",
    "            \"b\",\n",
    "        ],\n",
    "        [1, 2],\n",
    "    ],\n",
    "    codes=[[0, 0, 1, 1], [0, 1, 0, 1]],  # a a b b  # 1 2 1 2\n",
    ")\n",
    "print(i4)"
   ]
  },
  {
   "cell_type": "code",
   "execution_count": 17,
   "metadata": {},
   "outputs": [
    {
     "name": "stdout",
     "output_type": "stream",
     "text": [
      "city1  2010     100\n",
      "       2020     200\n",
      "city2  2010    1001\n",
      "       2020    1002\n",
      "dtype: int64\n",
      "city   year\n",
      "city1  2010     100\n",
      "       2020     200\n",
      "city2  2010    1001\n",
      "       2020    1002\n",
      "dtype: int64\n",
      "MultiIndex([('city1', 2010),\n",
      "            ('city1', 2020),\n",
      "            ('city2', 2010),\n",
      "            ('city2', 2020)],\n",
      "           names=['city', 'year'])\n",
      "MultiIndex([('person1', 'job1'),\n",
      "            ('person1', 'job2'),\n",
      "            ('person2', 'job1'),\n",
      "            ('person2', 'job2'),\n",
      "            ('person3', 'job1'),\n",
      "            ('person3', 'job2')],\n",
      "           names=['worker', 'job'])\n"
     ]
    }
   ],
   "source": [
    "### Уровням можно задавать названия\n",
    "\n",
    "data = {\n",
    "    (\"city1\", 2010): 100,\n",
    "    (\"city1\", 2020): 200,\n",
    "    (\"city2\", 2010): 1001,\n",
    "    (\"city2\", 2020): 1002,\n",
    "}\n",
    "s = pd.Series(data)\n",
    "print(s)\n",
    "\n",
    "s.index.names = [\"city\", \"year\"]\n",
    "print(s)\n",
    "\n",
    "index = pd.MultiIndex.from_product(\n",
    "    [\n",
    "        [\n",
    "            \"city1\",\n",
    "            \"city2\",\n",
    "        ],\n",
    "        [2010, 2020],\n",
    "    ],\n",
    "    names=[\"city\", \"year\"],\n",
    ")\n",
    "print(index)\n",
    "\n",
    "columns = pd.MultiIndex.from_product(\n",
    "    [\n",
    "        [\n",
    "            \"person1\",\n",
    "            \"person2\",\n",
    "            \"person3\",\n",
    "        ],\n",
    "        [\"job1\", \"job2\"],\n",
    "    ],\n",
    "    names=[\"worker\", \"job\"],\n",
    ")\n",
    "print(columns)\n"
   ]
  },
  {
   "cell_type": "code",
   "execution_count": 18,
   "metadata": {},
   "outputs": [
    {
     "name": "stdout",
     "output_type": "stream",
     "text": [
      "[[0.51182162 0.9504637  0.14415961 0.94864945 0.31183145 0.42332645]\n",
      " [0.82770259 0.40919914 0.54959369 0.02755911 0.75351311 0.53814331]\n",
      " [0.32973172 0.7884287  0.30319483 0.45349789 0.1340417  0.40311299]\n",
      " [0.20345524 0.26231334 0.75036467 0.28040876 0.48519097 0.9807372 ]]\n",
      "worker       person1             person2             person3          \n",
      "job             job1      job2      job1      job2      job1      job2\n",
      "city  year                                                            \n",
      "city1 2010  0.511822  0.950464  0.144160  0.948649  0.311831  0.423326\n",
      "      2020  0.827703  0.409199  0.549594  0.027559  0.753513  0.538143\n",
      "city2 2010  0.329732  0.788429  0.303195  0.453498  0.134042  0.403113\n",
      "      2020  0.203455  0.262313  0.750365  0.280409  0.485191  0.980737\n"
     ]
    }
   ],
   "source": [
    "rng = np.random.default_rng(1)\n",
    "data = rng.random((4, 6))\n",
    "print(data)\n",
    "\n",
    "data_df = pd.DataFrame(data, index=index, columns=columns)\n",
    "print(data_df)"
   ]
  },
  {
   "cell_type": "code",
   "execution_count": 19,
   "metadata": {},
   "outputs": [
    {
     "name": "stdout",
     "output_type": "stream",
     "text": [
      "worker       person1             person2             person3          \n",
      "job             job1      job2      job1      job2      job1      job2\n",
      "city  year                                                            \n",
      "city1 2010  0.511822  0.950464  0.144160  0.948649  0.311831  0.423326\n",
      "      2020  0.827703  0.409199  0.549594  0.027559  0.753513  0.538143\n",
      "city2 2010  0.329732  0.788429  0.303195  0.453498  0.134042  0.403113\n",
      "      2020  0.203455  0.262313  0.750365  0.280409  0.485191  0.980737\n",
      "worker       person1             person2             person3          \n",
      "job             job1      job2      job1      job2      job1      job2\n",
      "city  year                                                            \n",
      "city1 2020  0.827703  0.409199  0.549594  0.027559  0.753513  0.538143\n",
      "city2 2020  0.203455  0.262313  0.750365  0.280409  0.485191  0.980737\n",
      "worker       person1   person2   person3\n",
      "city  year                              \n",
      "city1 2010  0.511822  0.144160  0.311831\n",
      "      2020  0.827703  0.549594  0.753513\n",
      "city2 2010  0.329732  0.303195  0.134042\n",
      "      2020  0.203455  0.750365  0.485191\n",
      "worker   person1   person2   person3\n",
      "year                                \n",
      "2010    0.950464  0.948649  0.423326\n",
      "2020    0.409199  0.027559  0.538143\n",
      "worker   person1   person2   person3\n",
      "job         job2      job2      job2\n",
      "year                                \n",
      "2010    0.950464  0.948649  0.423326\n",
      "2020    0.409199  0.027559  0.538143\n"
     ]
    }
   ],
   "source": [
    "## 2. Из получившихся данных выбрать данные по \n",
    "# - 2020 году (для всех столбцов)\n",
    "# - job_1 (для всех строк)\n",
    "# - для city_1 и job_2 \n",
    "index = pd.MultiIndex.from_product(\n",
    "    [\n",
    "        [\n",
    "            \"city1\",\n",
    "            \"city2\",\n",
    "        ],\n",
    "        [2010, 2020],\n",
    "    ],\n",
    "    names=[\"city\", \"year\"],\n",
    ")\n",
    "columns = pd.MultiIndex.from_product(\n",
    "    [\n",
    "        [\n",
    "            \"person1\",\n",
    "            \"person2\",\n",
    "            \"person3\",\n",
    "        ],\n",
    "        [\"job1\", \"job2\"],\n",
    "    ],\n",
    "    names=[\"worker\", \"job\"],\n",
    ")\n",
    "rng = np.random.default_rng(1)\n",
    "data = rng.random((4, 6))\n",
    "data_df = pd.DataFrame(data, index=index, columns=columns)\n",
    "print(data_df)\n",
    "# 2020 году (для всех столбцов)\n",
    "print(data_df.loc[(slice(None), 2020), :])\n",
    "# job1 (для всех строк)\n",
    "print(data_df.xs(\"job1\", level=\"job\", axis=1))\n",
    "# для city1 и job2\n",
    "print(data_df.loc[\"city1\"].xs(\"job2\", level=\"job\", axis=1))\n",
    "# Или через .loc с сохранением MultiIndex\n",
    "print(data_df.loc[\"city1\", (slice(None), \"job2\")])"
   ]
  },
  {
   "cell_type": "code",
   "execution_count": 20,
   "metadata": {},
   "outputs": [
    {
     "name": "stdout",
     "output_type": "stream",
     "text": [
      "city   year\n",
      "city1  2010      100\n",
      "       2020      200\n",
      "city2  2010     1001\n",
      "       2020     1002\n",
      "city3  2010    10001\n",
      "       2020    10002\n",
      "dtype: int64\n"
     ]
    }
   ],
   "source": [
    "# Индексация и срезы (по мультииндексу)\n",
    "\n",
    "data = {\n",
    "    (\"city1\", 2010): 100,\n",
    "    (\"city1\", 2020): 200,\n",
    "    (\"city2\", 2010): 1001,\n",
    "    (\"city2\", 2020): 1002,\n",
    "    (\"city3\", 2010): 10001,\n",
    "    (\"city3\", 2020): 10002,\n",
    "}\n",
    "s = pd.Series(data)\n",
    "s.index.names = [\"city\", \"year\"]\n",
    "print(s)"
   ]
  },
  {
   "cell_type": "code",
   "execution_count": 21,
   "metadata": {},
   "outputs": [
    {
     "name": "stdout",
     "output_type": "stream",
     "text": [
      "100\n",
      "year\n",
      "2010    100\n",
      "2020    200\n",
      "dtype: int64\n"
     ]
    }
   ],
   "source": [
    "print(s[\"city1\", 2010])\n",
    "print(s[\"city1\"])"
   ]
  },
  {
   "cell_type": "code",
   "execution_count": 22,
   "metadata": {},
   "outputs": [
    {
     "name": "stdout",
     "output_type": "stream",
     "text": [
      "city   year\n",
      "city1  2010     100\n",
      "       2020     200\n",
      "city2  2010    1001\n",
      "       2020    1002\n",
      "dtype: int64\n",
      "city\n",
      "city1      100\n",
      "city2     1001\n",
      "city3    10001\n",
      "dtype: int64\n"
     ]
    }
   ],
   "source": [
    "print(s.loc[\"city1\":\"city2\"])\n",
    "print(s[:, 2010])"
   ]
  },
  {
   "cell_type": "code",
   "execution_count": 23,
   "metadata": {},
   "outputs": [
    {
     "name": "stdout",
     "output_type": "stream",
     "text": [
      "city   year\n",
      "city3  2010    10001\n",
      "       2020    10002\n",
      "dtype: int64\n",
      "city   year\n",
      "city1  2010      100\n",
      "       2020      200\n",
      "city3  2010    10001\n",
      "       2020    10002\n",
      "dtype: int64\n"
     ]
    }
   ],
   "source": [
    "print(s[s > 2000])\n",
    "print(s[[\"city1\", \"city3\"]])"
   ]
  },
  {
   "cell_type": "code",
   "execution_count": 24,
   "metadata": {},
   "outputs": [
    {
     "name": "stdout",
     "output_type": "stream",
     "text": [
      "worker       person1             person2             person3          \n",
      "job             job1      job2      job1      job2      job1      job2\n",
      "city  year                                                            \n",
      "city1 2010  0.511822  0.950464  0.144160  0.948649  0.311831  0.423326\n",
      "      2020  0.827703  0.409199  0.549594  0.027559  0.753513  0.538143\n",
      "city2 2010  0.329732  0.788429  0.303195  0.453498  0.134042  0.403113\n",
      "      2020  0.203455  0.262313  0.750365  0.280409  0.485191  0.980737\n",
      "worker       person1             person3          \n",
      "job             job1      job2      job1      job2\n",
      "city  year                                        \n",
      "city1 2010  0.511822  0.950464  0.311831  0.423326\n",
      "      2020  0.827703  0.409199  0.753513  0.538143\n",
      "city2 2010  0.329732  0.788429  0.134042  0.403113\n",
      "      2020  0.203455  0.262313  0.485191  0.980737\n",
      "worker   person1             person2          \n",
      "job         job1      job2      job1      job2\n",
      "year                                          \n",
      "2010    0.511822  0.950464  0.144160  0.948649\n",
      "2020    0.827703  0.409199  0.549594  0.027559\n"
     ]
    }
   ],
   "source": [
    "## 3. Взять за основу DataFrame со следующей структурой\n",
    "# Выполнить запрос на получение следующих данных\n",
    "# - все данные по person_1 и person_3\n",
    "# - все данные по первому городу и первым двум person-ам (с использование срезов)\n",
    "#\n",
    "# Приведите пример (самостоятельно) с использованием pd.IndexSlice\n",
    "\n",
    "index = pd.MultiIndex.from_product(\n",
    "    [\n",
    "        [\n",
    "            \"city1\",\n",
    "            \"city2\",\n",
    "        ],\n",
    "        [2010, 2020],\n",
    "    ],\n",
    "    names=[\"city\", \"year\"],\n",
    ")\n",
    "columns = pd.MultiIndex.from_product(\n",
    "    [\n",
    "        [\n",
    "            \"person1\",\n",
    "            \"person2\",\n",
    "            \"person3\",\n",
    "        ],\n",
    "        [\"job1\", \"job2\"],\n",
    "    ],\n",
    "    names=[\"worker\", \"job\"],\n",
    ")\n",
    "rng = np.random.default_rng(1)\n",
    "data = rng.random((4, 6))\n",
    "data_df = pd.DataFrame(data, index=index, columns=columns)\n",
    "print(data_df)\n",
    "# все данные по person1 и person3\n",
    "print(data_df.loc[:, ([\"person1\", \"person3\"], slice(None))])\n",
    "# все данные по первому городу city1 и первым двум person'ам (с использованием срезов)\n",
    "print(data_df.loc[\"city1\", ([\"person1\", \"person2\"], slice(None))])"
   ]
  },
  {
   "cell_type": "code",
   "execution_count": 25,
   "metadata": {},
   "outputs": [
    {
     "name": "stdout",
     "output_type": "stream",
     "text": [
      "worker       person1             person2             person3          \n",
      "job             job1      job2      job1      job2      job1      job2\n",
      "city  year                                                            \n",
      "city1 2010  0.511822  0.950464  0.144160  0.948649  0.311831  0.423326\n",
      "      2020  0.827703  0.409199  0.549594  0.027559  0.753513  0.538143\n",
      "city2 2010  0.329732  0.788429  0.303195  0.453498  0.134042  0.403113\n",
      "      2020  0.203455  0.262313  0.750365  0.280409  0.485191  0.980737\n",
      "worker       person2   person3\n",
      "job             job1      job1\n",
      "city  year                    \n",
      "city1 2020  0.549594  0.753513\n",
      "city2 2020  0.750365  0.485191\n"
     ]
    }
   ],
   "source": [
    "index = pd.MultiIndex.from_product(\n",
    "    [\n",
    "        [\n",
    "            \"city1\",\n",
    "            \"city2\",\n",
    "        ],\n",
    "        [2010, 2020],\n",
    "    ],\n",
    "    names=[\"city\", \"year\"],\n",
    ")\n",
    "columns = pd.MultiIndex.from_product(\n",
    "    [\n",
    "        [\n",
    "            \"person1\",\n",
    "            \"person2\",\n",
    "            \"person3\",\n",
    "        ],\n",
    "        [\"job1\", \"job2\"],\n",
    "    ],\n",
    "    names=[\"worker\", \"job\"],\n",
    ")\n",
    "rng = np.random.default_rng(1)\n",
    "data = rng.random((4, 6))\n",
    "data_df = pd.DataFrame(data, index=index, columns=columns)\n",
    "print(data_df)\n",
    "'''Допустим, мы хотим выбрать данные:\n",
    "-Для city1 и city2 (все города)\n",
    "-За 2020 год\n",
    "-Для person2 и person3\n",
    "-Только для job1'''\n",
    "idx = pd.IndexSlice\n",
    "print(data_df.loc[pd.IndexSlice[:, 2020], idx[[\"person2\", \"person3\"], \"job1\"]])"
   ]
  },
  {
   "cell_type": "code",
   "execution_count": 26,
   "metadata": {},
   "outputs": [
    {
     "name": "stdout",
     "output_type": "stream",
     "text": [
      "char  int\n",
      "a     1      0.511822\n",
      "      2      0.950464\n",
      "c     1      0.144160\n",
      "      2      0.948649\n",
      "b     1      0.311831\n",
      "      2      0.423326\n",
      "dtype: float64\n",
      "char  int\n",
      "a     1      0.511822\n",
      "      2      0.950464\n",
      "b     1      0.311831\n",
      "      2      0.423326\n",
      "c     1      0.144160\n",
      "      2      0.948649\n",
      "dtype: float64\n",
      "char  int\n",
      "a     1      0.511822\n",
      "      2      0.950464\n",
      "b     1      0.311831\n",
      "      2      0.423326\n",
      "dtype: float64\n"
     ]
    }
   ],
   "source": [
    "# Перегруппировка мультииндексов\n",
    "\n",
    "rng = np.random.default_rng(1)\n",
    "index = pd.MultiIndex.from_product([[\"a\", \"c\", \"b\"], [1, 2]])\n",
    "data = pd.Series(rng.random(6), index=index)\n",
    "data.index.names = [\"char\", \"int\"]\n",
    "print(data)\n",
    "# print(data['a':'b']) # Надо пересортировать\n",
    "data = data.sort_index()\n",
    "print(data)\n",
    "print(data[\"a\":\"b\"])"
   ]
  },
  {
   "cell_type": "code",
   "execution_count": 27,
   "metadata": {},
   "outputs": [
    {
     "name": "stdout",
     "output_type": "stream",
     "text": [
      "(city1, 2010, 1)     101\n",
      "(city1, 2010, 2)    1010\n",
      "(city1, 2020, 1)     201\n",
      "(city1, 2020, 2)    2010\n",
      "(city2, 2010, 1)     102\n",
      "(city2, 2010, 2)    1020\n",
      "(city2, 2020, 1)     202\n",
      "(city2, 2020, 2)    2020\n",
      "(city3, 2010, 1)     103\n",
      "(city3, 2010, 2)    1030\n",
      "(city3, 2020, 1)     203\n",
      "(city3, 2020, 2)    2030\n",
      "dtype: int64\n",
      "city1  2010  1     101\n",
      "             2    1010\n",
      "       2020  1     201\n",
      "             2    2010\n",
      "city2  2010  1     102\n",
      "             2    1020\n",
      "       2020  1     202\n",
      "             2    2020\n",
      "city3  2010  1     103\n",
      "             2    1030\n",
      "       2020  1     203\n",
      "             2    2030\n",
      "dtype: int64\n"
     ]
    }
   ],
   "source": [
    "index = [\n",
    "    (\"city1\", 2010, 1),\n",
    "    (\"city1\", 2010, 2),\n",
    "    (\"city1\", 2020, 1),\n",
    "    (\"city1\", 2020, 2),\n",
    "    (\"city2\", 2010, 1),\n",
    "    (\"city2\", 2010, 2),\n",
    "    (\"city2\", 2020, 1),\n",
    "    (\"city2\", 2020, 2),\n",
    "    (\"city3\", 2010, 1),\n",
    "    (\"city3\", 2010, 2),\n",
    "    (\"city3\", 2020, 1),\n",
    "    (\"city3\", 2020, 2),\n",
    "]\n",
    "population = [101, 1010, 201, 2010, 102, 1020, 202, 2020, 103, 1030, 203, 2030]\n",
    "pop = pd.Series(population, index=index)\n",
    "print(pop)\n",
    "i = pd.MultiIndex.from_tuples(index)\n",
    "pop = pop.reindex(i)\n",
    "print(pop)"
   ]
  },
  {
   "cell_type": "code",
   "execution_count": 28,
   "metadata": {},
   "outputs": [
    {
     "name": "stdout",
     "output_type": "stream",
     "text": [
      "              1     2\n",
      "city1 2010  101  1010\n",
      "      2020  201  2010\n",
      "city2 2010  102  1020\n",
      "      2020  202  2020\n",
      "city3 2010  103  1030\n",
      "      2020  203  2030\n",
      "        city1  city2  city3\n",
      "2010 1    101    102    103\n",
      "     2   1010   1020   1030\n",
      "2020 1    201    202    203\n",
      "     2   2010   2020   2030\n",
      "         2010  2020\n",
      "city1 1   101   201\n",
      "      2  1010  2010\n",
      "city2 1   102   202\n",
      "      2  1020  2020\n",
      "city3 1   103   203\n",
      "      2  1030  2030\n",
      "              1     2\n",
      "city1 2010  101  1010\n",
      "      2020  201  2010\n",
      "city2 2010  102  1020\n",
      "      2020  202  2020\n",
      "city3 2010  103  1030\n",
      "      2020  203  2030\n"
     ]
    }
   ],
   "source": [
    "print(pop.unstack())\n",
    "print(pop.unstack(level=0))\n",
    "print(pop.unstack(level=1))\n",
    "print(pop.unstack(level=2))"
   ]
  },
  {
   "cell_type": "code",
   "execution_count": 29,
   "metadata": {},
   "outputs": [
    {
     "name": "stdout",
     "output_type": "stream",
     "text": [
      "[1 2 3 4 5 6 7 8 9]\n",
      "[[1 2 3]\n",
      " [4 5 6]\n",
      " [7 8 9]]\n",
      "[[1 2 3 4 5 6 7 8 9]]\n"
     ]
    }
   ],
   "source": [
    "# NumPy конкатенация\n",
    "\n",
    "x = [1, 2, 3]\n",
    "y = [4, 5, 6]\n",
    "z = [7, 8, 9]\n",
    "print(np.concatenate([x, y, z]))\n",
    "x = [[1, 2, 3]]\n",
    "y = [[4, 5, 6]]\n",
    "z = [[7, 8, 9]]\n",
    "print(np.concatenate([x, y, z], axis=0))\n",
    "print(np.concatenate([x, y, z], axis=1))"
   ]
  },
  {
   "cell_type": "code",
   "execution_count": 30,
   "metadata": {},
   "outputs": [
    {
     "name": "stdout",
     "output_type": "stream",
     "text": [
      "1    a\n",
      "2    b\n",
      "3    c\n",
      "4    d\n",
      "5    e\n",
      "6    f\n",
      "dtype: object\n",
      "1    a\n",
      "2    b\n",
      "3    c\n",
      "4    d\n",
      "5    e\n",
      "6    f\n",
      "dtype: object\n",
      "0    a\n",
      "1    b\n",
      "2    c\n",
      "3    d\n",
      "4    e\n",
      "5    f\n",
      "dtype: object\n",
      "[  1    a\n",
      "   2    b\n",
      "   3    c\n",
      "\"  4    d\n",
      "   5    e\n",
      "   6    f\n",
      "dtype: object\n",
      "1    a\n",
      "2    b\n",
      "3    c\n",
      "4    b\n",
      "5    c\n",
      "6    f\n",
      "dtype: object\n",
      "1    a\n",
      "2    b\n",
      "3    c\n",
      "4    b\n",
      "5    c\n",
      "6    f\n",
      "dtype: object\n"
     ]
    },
    {
     "name": "stderr",
     "output_type": "stream",
     "text": [
      "C:\\Users\\Nikita\\AppData\\Local\\Temp\\ipykernel_8296\\1538061734.py:10: FutureWarning: The behavior of pd.concat with len(keys) != len(objs) is deprecated. In a future version this will raise instead of truncating to the smaller of the two sequences\n",
      "  print(pd.concat([ser1, ser2], keys='[\"x\", \"y\"]'))  # Добавляет еще индексы\n"
     ]
    }
   ],
   "source": [
    "# Pandas - concat\n",
    "\n",
    "ser1 = pd.Series([\"a\", \"b\", \"c\"], index=[1, 2, 3])\n",
    "ser2 = pd.Series([\"d\", \"e\", \"f\"], index=[4, 5, 6])\n",
    "print(pd.concat([ser1, ser2]))\n",
    "ser1 = pd.Series([\"a\", \"b\", \"c\"], index=[1, 2, 3])\n",
    "ser2 = pd.Series([\"d\", \"e\", \"f\"], index=[4, 5, 6])\n",
    "print(pd.concat([ser1, ser2], verify_integrity=False))  # Для уникальности индексов\n",
    "print(pd.concat([ser1, ser2], ignore_index=True))  # Для игнора индексов\n",
    "print(pd.concat([ser1, ser2], keys='[\"x\", \"y\"]'))  # Добавляет еще индексы\n",
    "ser1 = pd.Series([\"a\", \"b\", \"c\"], index=[1, 2, 3])\n",
    "ser2 = pd.Series([\"b\", \"c\", \"f\"], index=[4, 5, 6])\n",
    "print(pd.concat([ser1, ser2], join='outer'))  \n",
    "print(pd.concat([ser1, ser2], join=\"inner\"))  "
   ]
  },
  {
   "cell_type": "code",
   "execution_count": 31,
   "metadata": {},
   "outputs": [
    {
     "name": "stdout",
     "output_type": "stream",
     "text": [
      "     0    1\n",
      "1    a  NaN\n",
      "2    b  NaN\n",
      "3    c  NaN\n",
      "4    f    b\n",
      "5  NaN    c\n",
      "6  NaN    f\n",
      "\n",
      "   0  1\n",
      "4  f  b\n"
     ]
    }
   ],
   "source": [
    "## 4. Привести пример использования inner и outer джойнов для Series (данные примера скорее всего нужно изменить)\n",
    "\n",
    "ser1 = pd.Series([\"a\", \"b\", \"c\", \"f\"], index=[1, 2, 3, 4])\n",
    "ser2 = pd.Series([\"b\", \"c\", \"f\"], index=[4, 5, 6])\n",
    "# outer по умолчанию\n",
    "print(pd.concat([ser1, ser2], axis=1, join=\"outer\"))\n",
    "print()\n",
    "# inner устанавливает пересечение\n",
    "print(pd.concat([ser1, ser2], axis=1, join=\"inner\"))"
   ]
  }
 ],
 "metadata": {
  "kernelspec": {
   "display_name": "Python 3",
   "language": "python",
   "name": "python3"
  },
  "language_info": {
   "codemirror_mode": {
    "name": "ipython",
    "version": 3
   },
   "file_extension": ".py",
   "mimetype": "text/x-python",
   "name": "python",
   "nbconvert_exporter": "python",
   "pygments_lexer": "ipython3",
   "version": "3.10.7"
  }
 },
 "nbformat": 4,
 "nbformat_minor": 2
}
